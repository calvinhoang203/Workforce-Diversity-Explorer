{
 "cells": [
  {
   "cell_type": "markdown",
   "metadata": {},
   "source": [
    "# Exploratory Data Analysis (EDA)"
   ]
  },
  {
   "cell_type": "raw",
   "metadata": {
    "vscode": {
     "languageId": "raw"
    }
   },
   "source": [
    "## Google Workforce Diversity Data Analysis\n",
    "\n",
    "This notebook performs exploratory data analysis on Google's workforce demographic data to uncover patterns in diversity composition across different sectors and industries. The analysis will help identify:\n",
    "\n",
    "- Sectors with similar demographic structures\n",
    "- Gender imbalances across sectors  \n",
    "- Diversity trends over time (2021-2023)\n",
    "- Ethnic composition patterns\n",
    "- Clustering opportunities for similar industries\n"
   ]
  },
  {
   "cell_type": "code",
   "execution_count": null,
   "metadata": {},
   "outputs": [],
   "source": [
    "# Import necessary libraries\n",
    "import pandas as pd\n",
    "import numpy as np\n",
    "import matplotlib.pyplot as plt\n",
    "import seaborn as sns\n",
    "from scipy import stats\n",
    "import warnings\n",
    "warnings.filterwarnings('ignore')\n",
    "\n",
    "# Set plotting style\n",
    "plt.style.use('default')\n",
    "sns.set_palette(\"husl\")\n",
    "plt.rcParams['figure.figsize'] = (12, 8)\n",
    "plt.rcParams['font.size'] = 10\n",
    "\n",
    "# Display options\n",
    "pd.set_option('display.max_columns', None)\n",
    "pd.set_option('display.max_rows', 100)\n"
   ]
  },
  {
   "cell_type": "raw",
   "metadata": {
    "vscode": {
     "languageId": "raw"
    }
   },
   "source": [
    "## 1. Data Loading and Initial Inspection\n"
   ]
  },
  {
   "cell_type": "code",
   "execution_count": null,
   "metadata": {},
   "outputs": [],
   "source": [
    "# Load the dataset\n",
    "df = pd.read_csv('../data/workforce_data.csv')\n",
    "\n",
    "print(\"Dataset shape:\", df.shape)\n",
    "print(\"\\nColumn names:\")\n",
    "print(df.columns.tolist())\n",
    "\n",
    "# Display first few rows\n",
    "print(\"\\nFirst 5 rows:\")\n",
    "df.head()\n"
   ]
  },
  {
   "cell_type": "code",
   "execution_count": null,
   "metadata": {},
   "outputs": [],
   "source": [
    "# Basic information about the dataset\n",
    "print(\"Dataset Info:\")\n",
    "df.info()\n",
    "\n",
    "print(\"\\n\" + \"=\"*50)\n",
    "print(\"Data types:\")\n",
    "print(df.dtypes)\n",
    "\n",
    "print(\"\\n\" + \"=\"*50)\n",
    "print(\"Unique values per column:\")\n",
    "for col in df.columns:\n",
    "    print(f\"{col}: {df[col].nunique()} unique values\")\n"
   ]
  },
  {
   "cell_type": "raw",
   "metadata": {
    "vscode": {
     "languageId": "raw"
    }
   },
   "source": [
    "## 2. Data Quality Assessment\n"
   ]
  },
  {
   "cell_type": "code",
   "execution_count": null,
   "metadata": {},
   "outputs": [],
   "source": [
    "# Check for missing values\n",
    "print(\"Missing values:\")\n",
    "missing_data = df.isnull().sum()\n",
    "missing_percent = (missing_data / len(df)) * 100\n",
    "missing_summary = pd.DataFrame({\n",
    "    'Missing Count': missing_data,\n",
    "    'Missing Percentage': missing_percent\n",
    "})\n",
    "print(missing_summary[missing_summary['Missing Count'] > 0])\n",
    "\n",
    "if missing_summary['Missing Count'].sum() == 0:\n",
    "    print(\"No missing values found!\")\n"
   ]
  },
  {
   "cell_type": "code",
   "execution_count": null,
   "metadata": {},
   "outputs": [],
   "source": [
    "# Statistical summary of numerical columns\n",
    "print(\"Statistical Summary:\")\n",
    "numerical_cols = df.select_dtypes(include=[np.number]).columns\n",
    "df[numerical_cols].describe()\n"
   ]
  },
  {
   "cell_type": "raw",
   "metadata": {
    "vscode": {
     "languageId": "raw"
    }
   },
   "source": [
    "## 3. Initial Data Exploration and Visualizations\n"
   ]
  },
  {
   "cell_type": "code",
   "execution_count": null,
   "metadata": {},
   "outputs": [],
   "source": [
    "# Examine unique values for key categorical columns\n",
    "categorical_cols = ['year', 'sector', 'subsector', 'industry_group', 'industry']\n",
    "\n",
    "for col in categorical_cols:\n",
    "    if col in df.columns:\n",
    "        print(f\"\\n{col.upper()} - {df[col].nunique()} unique values:\")\n",
    "        print(df[col].value_counts().head(10))\n",
    "        print(\"-\" * 50)\n"
   ]
  },
  {
   "cell_type": "code",
   "execution_count": null,
   "metadata": {},
   "outputs": [],
   "source": [
    "# Analyze gender diversity patterns\n",
    "if 'percent_women' in df.columns:\n",
    "    plt.figure(figsize=(15, 10))\n",
    "    \n",
    "    # Distribution of women percentage\n",
    "    plt.subplot(2, 3, 1)\n",
    "    plt.hist(df['percent_women'], bins=30, alpha=0.7, color='purple', edgecolor='black')\n",
    "    plt.title('Distribution of Women Percentage')\n",
    "    plt.xlabel('Percent Women')\n",
    "    plt.ylabel('Frequency')\n",
    "    plt.axvline(df['percent_women'].mean(), color='red', linestyle='--', \n",
    "                label=f'Mean: {df[\"percent_women\"].mean():.1f}%')\n",
    "    plt.legend()\n",
    "    \n",
    "    # Gender representation by sector\n",
    "    plt.subplot(2, 3, 2)\n",
    "    if 'sector' in df.columns:\n",
    "        sector_women_avg = df.groupby('sector')['percent_women'].mean().sort_values()\n",
    "        sector_women_avg.plot(kind='barh', color='lightcoral')\n",
    "        plt.title('Average Women % by Sector')\n",
    "        plt.xlabel('Average Percent Women')\n",
    "    \n",
    "    # Correlation with employment size\n",
    "    plt.subplot(2, 3, 3)\n",
    "    if 'total_employed_in_thousands' in df.columns:\n",
    "        plt.scatter(df['total_employed_in_thousands'], df['percent_women'], alpha=0.6)\n",
    "        plt.xlabel('Total Employment (thousands)')\n",
    "        plt.ylabel('Percent Women')\n",
    "        plt.title('Women % vs Employment Size')\n",
    "        plt.xscale('log')  # Log scale for better visualization\n",
    "        \n",
    "        # Add correlation coefficient\n",
    "        corr = df['total_employed_in_thousands'].corr(df['percent_women'])\n",
    "        plt.text(0.05, 0.95, f'Correlation: {corr:.3f}', transform=plt.gca().transAxes, \n",
    "                bbox=dict(boxstyle='round', facecolor='white', alpha=0.8))\n",
    "    \n",
    "    # Time trend analysis\n",
    "    plt.subplot(2, 3, 4)\n",
    "    if 'year' in df.columns:\n",
    "        yearly_women = df.groupby('year')['percent_women'].mean()\n",
    "        yearly_women.plot(kind='line', marker='o', color='green', linewidth=2, markersize=8)\n",
    "        plt.title('Average Women % Over Time')\n",
    "        plt.xlabel('Year')\n",
    "        plt.ylabel('Average Percent Women')\n",
    "        plt.grid(True, alpha=0.3)\n",
    "    \n",
    "    # Gender parity analysis\n",
    "    plt.subplot(2, 3, 5)\n",
    "    # Define gender parity ranges\n",
    "    df['gender_category'] = pd.cut(df['percent_women'], \n",
    "                                  bins=[0, 30, 40, 60, 70, 100], \n",
    "                                  labels=['Low (<30%)', 'Below Parity (30-40%)', \n",
    "                                         'Parity (40-60%)', 'Above Parity (60-70%)', \n",
    "                                         'High (>70%)'])\n",
    "    gender_dist = df['gender_category'].value_counts()\n",
    "    plt.pie(gender_dist.values, labels=gender_dist.index, autopct='%1.1f%%', startangle=90)\n",
    "    plt.title('Gender Representation Categories')\n",
    "    \n",
    "    # Summary statistics\n",
    "    plt.subplot(2, 3, 6)\n",
    "    plt.axis('off')\n",
    "    stats_text = f\"\"\"\n",
    "    GENDER DIVERSITY SUMMARY\n",
    "    \n",
    "    Mean: {df['percent_women'].mean():.1f}%\n",
    "    Median: {df['percent_women'].median():.1f}%\n",
    "    Std Dev: {df['percent_women'].std():.1f}%\n",
    "    Min: {df['percent_women'].min():.1f}%\n",
    "    Max: {df['percent_women'].max():.1f}%\n",
    "    \n",
    "    Parity Range (40-60%):\n",
    "    {((df['percent_women'] >= 40) & (df['percent_women'] <= 60)).sum()} records\n",
    "    ({((df['percent_women'] >= 40) & (df['percent_women'] <= 60)).mean()*100:.1f}%)\n",
    "    \"\"\"\n",
    "    plt.text(0.1, 0.5, stats_text, fontsize=9, verticalalignment='center', \n",
    "             bbox=dict(boxstyle='round', facecolor='lightblue', alpha=0.8))\n",
    "    \n",
    "    plt.tight_layout()\n",
    "    plt.show()\n"
   ]
  },
  {
   "cell_type": "code",
   "execution_count": null,
   "metadata": {},
   "outputs": [],
   "source": [
    "# Analyze ethnic diversity patterns\n",
    "ethnic_columns = [col for col in df.columns if 'percent_' in col and col != 'percent_women']\n",
    "\n",
    "if ethnic_columns:\n",
    "    print(\"Ethnic diversity columns found:\")\n",
    "    for col in ethnic_columns:\n",
    "        print(f\"- {col}\")\n",
    "    \n",
    "    plt.figure(figsize=(16, 12))\n",
    "    \n",
    "    # Create subplots for each ethnic group\n",
    "    n_groups = len(ethnic_columns)\n",
    "    cols = min(3, n_groups)\n",
    "    rows = (n_groups + cols - 1) // cols\n",
    "    \n",
    "    for i, col in enumerate(ethnic_columns, 1):\n",
    "        plt.subplot(rows, cols, i)\n",
    "        plt.hist(df[col], bins=20, alpha=0.7, edgecolor='black')\n",
    "        plt.title(f'{col.replace(\"percent_\", \"\").replace(\"_\", \" \").title()}')\n",
    "        plt.xlabel('Percentage')\n",
    "        plt.ylabel('Frequency')\n",
    "        plt.axvline(df[col].mean(), color='red', linestyle='--', \n",
    "                   label=f'Mean: {df[col].mean():.1f}%')\n",
    "        plt.legend()\n",
    "    \n",
    "    plt.tight_layout()\n",
    "    plt.show()\n",
    "    \n",
    "    # Summary statistics for ethnic groups\n",
    "    print(\"\\nEthnic Group Statistics:\")\n",
    "    ethnic_stats = df[ethnic_columns].describe()\n",
    "    print(ethnic_stats)\n",
    "    \n",
    "    # Check ethnic composition consistency\n",
    "    if len(ethnic_columns) > 1:\n",
    "        df['ethnic_sum'] = df[ethnic_columns].sum(axis=1)\n",
    "        print(f\"\\nEthnic percentages sum statistics:\")\n",
    "        print(df['ethnic_sum'].describe())\n",
    "        print(f\"Records with ethnic sum > 100%: {(df['ethnic_sum'] > 100).sum()}\")\n",
    "        print(f\"Records with ethnic sum < 50%: {(df['ethnic_sum'] < 50).sum()}\")\n"
   ]
  },
  {
   "cell_type": "raw",
   "metadata": {
    "vscode": {
     "languageId": "raw"
    }
   },
   "source": [
    "## 4. Key Questions Analysis\n",
    "\n",
    "Now let's start addressing the specific research questions:\n"
   ]
  },
  {
   "cell_type": "code",
   "execution_count": null,
   "metadata": {},
   "outputs": [],
   "source": [
    "# Question 2: Which three sectors are most gender-imbalanced and how does that relate to total workforce size?\n",
    "print(\"QUESTION 2: Most Gender-Imbalanced Sectors\")\n",
    "print(\"=\" * 50)\n",
    "\n",
    "if 'percent_women' in df.columns and 'sector' in df.columns:\n",
    "    # Calculate gender imbalance (distance from 50%)\n",
    "    sector_analysis = df.groupby('sector').agg({\n",
    "        'percent_women': ['mean', 'count'],\n",
    "        'total_employed_in_thousands': ['sum', 'mean']\n",
    "    }).round(2)\n",
    "    \n",
    "    # Flatten column names\n",
    "    sector_analysis.columns = ['avg_women_pct', 'record_count', 'total_employment', 'avg_employment']\n",
    "    \n",
    "    # Calculate imbalance (distance from 50%)\n",
    "    sector_analysis['gender_imbalance'] = abs(sector_analysis['avg_women_pct'] - 50)\n",
    "    \n",
    "    # Sort by imbalance\n",
    "    most_imbalanced = sector_analysis.sort_values('gender_imbalance', ascending=False)\n",
    "    \n",
    "    print(\"Top 10 Most Gender-Imbalanced Sectors:\")\n",
    "    print(most_imbalanced[['avg_women_pct', 'gender_imbalance', 'total_employment']].head(10))\n",
    "    \n",
    "    # Visualize the relationship\n",
    "    plt.figure(figsize=(12, 8))\n",
    "    \n",
    "    plt.subplot(2, 2, 1)\n",
    "    plt.scatter(most_imbalanced['total_employment'], most_imbalanced['gender_imbalance'], \n",
    "                alpha=0.7, s=60, c='red')\n",
    "    plt.xlabel('Total Employment (thousands)')\n",
    "    plt.ylabel('Gender Imbalance (distance from 50%)')\n",
    "    plt.title('Gender Imbalance vs Total Employment')\n",
    "    plt.xscale('log')\n",
    "    \n",
    "    plt.subplot(2, 2, 2)\n",
    "    top_3_imbalanced = most_imbalanced.head(3)\n",
    "    plt.barh(range(len(top_3_imbalanced)), top_3_imbalanced['avg_women_pct'], color='coral')\n",
    "    plt.yticks(range(len(top_3_imbalanced)), top_3_imbalanced.index)\n",
    "    plt.xlabel('Average Women Percentage')\n",
    "    plt.title('Top 3 Most Imbalanced Sectors')\n",
    "    plt.axvline(50, color='black', linestyle='--', alpha=0.5, label='Gender Parity')\n",
    "    plt.legend()\n",
    "    \n",
    "    plt.subplot(2, 2, 3)\n",
    "    plt.barh(range(len(top_3_imbalanced)), top_3_imbalanced['total_employment'], color='skyblue')\n",
    "    plt.yticks(range(len(top_3_imbalanced)), top_3_imbalanced.index)\n",
    "    plt.xlabel('Total Employment (thousands)')\n",
    "    plt.title('Employment Size of Most Imbalanced Sectors')\n",
    "    plt.xscale('log')\n",
    "    \n",
    "    plt.subplot(2, 2, 4)\n",
    "    # Show correlation\n",
    "    corr = most_imbalanced['total_employment'].corr(most_imbalanced['gender_imbalance'])\n",
    "    plt.text(0.5, 0.7, f'Correlation between\\nEmployment Size and\\nGender Imbalance:\\n{corr:.3f}', \n",
    "             ha='center', va='center', transform=plt.gca().transAxes,\n",
    "             bbox=dict(boxstyle='round', facecolor='lightyellow', alpha=0.8), fontsize=12)\n",
    "    plt.axis('off')\n",
    "    \n",
    "    plt.tight_layout()\n",
    "    plt.show()\n",
    "    \n",
    "    print(f\"\\nTop 3 Most Gender-Imbalanced Sectors:\")\n",
    "    for i, (sector, data) in enumerate(top_3_imbalanced.head(3).iterrows(), 1):\n",
    "        print(f\"{i}. {sector}: {data['avg_women_pct']:.1f}% women (imbalance: {data['gender_imbalance']:.1f}%, employment: {data['total_employment']:,.0f}k)\")\n"
   ]
  },
  {
   "cell_type": "raw",
   "metadata": {
    "vscode": {
     "languageId": "raw"
    }
   },
   "source": [
    "## 5. Initial EDA Summary & Next Steps\n",
    "\n",
    "### Key Findings So Far:\n",
    "- Dataset structure and quality assessment completed\n",
    "- Gender diversity patterns analyzed across sectors\n",
    "- Ethnic composition distributions examined\n",
    "- Initial sector-level analysis for gender imbalances\n",
    "\n",
    "### Next Steps for Clustering Analysis:\n",
    "1. **Feature Engineering**: Create diversity indices and ratios\n",
    "2. **Data Preprocessing**: Scale and normalize features for clustering\n",
    "3. **Dimensionality Reduction**: Apply PCA to understand variance structure\n",
    "4. **Clustering**: Implement K-means and hierarchical clustering\n",
    "5. **Answer Remaining Questions**: \n",
    "   - Time-based diversity trends (2021-2023)\n",
    "   - Ethnic dominance patterns\n",
    "   - Industry groupings by ethnic composition\n",
    "\n",
    "This EDA provides the foundation for the unsupervised learning analysis that will follow.\n"
   ]
  },
  {
   "cell_type": "markdown",
   "metadata": {},
   "source": []
  }
 ],
 "metadata": {
  "kernelspec": {
   "display_name": "Python 3",
   "language": "python",
   "name": "python3"
  },
  "language_info": {
   "name": "python",
   "version": "3.12.10"
  }
 },
 "nbformat": 4,
 "nbformat_minor": 2
}
